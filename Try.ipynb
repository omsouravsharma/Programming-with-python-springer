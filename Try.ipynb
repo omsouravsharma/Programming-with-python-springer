{
 "cells": [
  {
   "cell_type": "code",
   "execution_count": 4,
   "id": "b66d2c1c",
   "metadata": {},
   "outputs": [
    {
     "data": {
      "text/plain": [
       "[2, 3, 45, 51, 1, 'a']"
      ]
     },
     "execution_count": 4,
     "metadata": {},
     "output_type": "execute_result"
    }
   ],
   "source": [
    "a = [2,3,45,51,1, 'a']\n",
    "a\n",
    "\n"
   ]
  },
  {
   "cell_type": "code",
   "execution_count": 5,
   "id": "56c9fae7",
   "metadata": {},
   "outputs": [
    {
     "data": {
      "text/plain": [
       "True"
      ]
     },
     "execution_count": 5,
     "metadata": {},
     "output_type": "execute_result"
    }
   ],
   "source": [
    "1 in a"
   ]
  },
  {
   "cell_type": "code",
   "execution_count": 11,
   "id": "c3d0c42d",
   "metadata": {},
   "outputs": [
    {
     "ename": "TypeError",
     "evalue": "object of type 'int' has no len()",
     "output_type": "error",
     "traceback": [
      "\u001b[1;31m---------------------------------------------------------------------------\u001b[0m",
      "\u001b[1;31mTypeError\u001b[0m                                 Traceback (most recent call last)",
      "Input \u001b[1;32mIn [11]\u001b[0m, in \u001b[0;36m<cell line: 5>\u001b[1;34m()\u001b[0m\n\u001b[0;32m      3\u001b[0m year \u001b[38;5;241m=\u001b[39m \u001b[38;5;241m200\u001b[39m\n\u001b[0;32m      4\u001b[0m year\n\u001b[1;32m----> 5\u001b[0m \u001b[38;5;28;43mlen\u001b[39;49m\u001b[43m(\u001b[49m\u001b[43myear\u001b[49m\u001b[43m)\u001b[49m\n",
      "\u001b[1;31mTypeError\u001b[0m: object of type 'int' has no len()"
     ]
    }
   ],
   "source": [
    "#year 1-100 - 1 \n",
    "#101-200 = 2\n",
    "year = 200\n",
    "year\n",
    "len(year)\n",
    "# len(year)\n",
    "\n",
    "# if year <100:\n",
    "#     return 1\n",
    "# elif year >100"
   ]
  },
  {
   "cell_type": "code",
   "execution_count": 27,
   "id": "cabdc836",
   "metadata": {},
   "outputs": [
    {
     "data": {
      "text/plain": [
       "'20'"
      ]
     },
     "execution_count": 27,
     "metadata": {},
     "output_type": "execute_result"
    }
   ],
   "source": [
    "year =2002\n",
    "year = str(year)\n",
    "len(str(year))\n",
    "year[0]\n",
    "year[0:\n",
    "     2]"
   ]
  },
  {
   "cell_type": "code",
   "execution_count": 58,
   "id": "da6e86b1",
   "metadata": {},
   "outputs": [
    {
     "name": "stdout",
     "output_type": "stream",
     "text": [
      "20\n"
     ]
    }
   ],
   "source": [
    "year = 202\n",
    "\n",
    "year = str(year)\n",
    "def y(year):\n",
    "    year = str(year)\n",
    "    if len(year) <=2:\n",
    "        print('1')\n",
    "    elif len(year)>2 and len(year) <=3:\n",
    "        print(int(year[0])+1)\n",
    "    elif len(year)>3 and len(year) <=4:\n",
    "        print(int(year[0:2])+1)\n",
    "    elif len(year)>4 and len(year) <=4:\n",
    "        print(int(year[0:3])+1)\n",
    "y(1900)"
   ]
  },
  {
   "cell_type": "code",
   "execution_count": 62,
   "id": "5d0de622",
   "metadata": {},
   "outputs": [
    {
     "data": {
      "text/plain": [
       "500"
      ]
     },
     "execution_count": 62,
     "metadata": {},
     "output_type": "execute_result"
    }
   ],
   "source": [
    "year = 2002\n",
    "yearlen(str(year))"
   ]
  },
  {
   "cell_type": "code",
   "execution_count": 64,
   "id": "8f289d91",
   "metadata": {},
   "outputs": [
    {
     "name": "stdout",
     "output_type": "stream",
     "text": [
      "19 century\n"
     ]
    }
   ],
   "source": [
    "def find_century(year):\n",
    "    \n",
    "    # No negative value is allow for year\n",
    "    if (year <= 0):\n",
    "        print(\"0 and negative is not allow for a year\")\n",
    "          \n",
    "    # If year is between 1 to 100 it\n",
    "    # will come in 1st century\n",
    "    elif (year <= 100):\n",
    "        print(\"1st century\")\n",
    "    elif (year % 100 == 0):\n",
    "        print(year // 100,\"century\")\n",
    "    else:\n",
    "        print(year // 100 + 1,\"century\")\n",
    "  \n",
    "# Driver code\n",
    "year = 1900\n",
    "find_century(year)"
   ]
  },
  {
   "cell_type": "code",
   "execution_count": 66,
   "id": "552f51c9",
   "metadata": {},
   "outputs": [
    {
     "data": {
      "text/plain": [
       "19"
      ]
     },
     "execution_count": 66,
     "metadata": {},
     "output_type": "execute_result"
    }
   ],
   "source": [
    "1901//100"
   ]
  },
  {
   "cell_type": "code",
   "execution_count": 72,
   "id": "33d6f560",
   "metadata": {},
   "outputs": [],
   "source": [
    "def FindCentury(year):\n",
    "    if year <0:\n",
    "        print(\"enter correct year\")\n",
    "    elif year%100 ==0:\n",
    "        print(year//100)\n",
    "    else:\n",
    "        print(year//100+1)"
   ]
  },
  {
   "cell_type": "code",
   "execution_count": 73,
   "id": "82eb150e",
   "metadata": {},
   "outputs": [
    {
     "name": "stdout",
     "output_type": "stream",
     "text": [
      "19\n"
     ]
    }
   ],
   "source": [
    "FindCentury(1900)"
   ]
  },
  {
   "cell_type": "code",
   "execution_count": 76,
   "id": "663a31a3",
   "metadata": {},
   "outputs": [],
   "source": [
    "def century(year):\n",
    "    return (year + 99) // 100"
   ]
  },
  {
   "cell_type": "code",
   "execution_count": 81,
   "id": "2d977b2f",
   "metadata": {},
   "outputs": [
    {
     "data": {
      "text/plain": [
       "1"
      ]
     },
     "execution_count": 81,
     "metadata": {},
     "output_type": "execute_result"
    }
   ],
   "source": [
    "century(99)"
   ]
  },
  {
   "cell_type": "code",
   "execution_count": 78,
   "id": "e4c51d11",
   "metadata": {},
   "outputs": [
    {
     "data": {
      "text/plain": [
       "1999"
      ]
     },
     "execution_count": 78,
     "metadata": {},
     "output_type": "execute_result"
    }
   ],
   "source": [
    "1900+99"
   ]
  },
  {
   "cell_type": "code",
   "execution_count": null,
   "id": "455492a2",
   "metadata": {},
   "outputs": [],
   "source": []
  }
 ],
 "metadata": {
  "kernelspec": {
   "display_name": "Python 3 (ipykernel)",
   "language": "python",
   "name": "python3"
  },
  "language_info": {
   "codemirror_mode": {
    "name": "ipython",
    "version": 3
   },
   "file_extension": ".py",
   "mimetype": "text/x-python",
   "name": "python",
   "nbconvert_exporter": "python",
   "pygments_lexer": "ipython3",
   "version": "3.9.12"
  }
 },
 "nbformat": 4,
 "nbformat_minor": 5
}
