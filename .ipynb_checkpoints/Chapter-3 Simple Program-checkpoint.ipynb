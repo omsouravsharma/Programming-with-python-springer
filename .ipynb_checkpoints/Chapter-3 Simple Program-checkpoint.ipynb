{
 "cells": [
  {
   "cell_type": "markdown",
   "id": "390068f6",
   "metadata": {},
   "source": [
    "# Basic Program Structure"
   ]
  },
  {
   "cell_type": "code",
   "execution_count": 12,
   "id": "17c37c7f",
   "metadata": {},
   "outputs": [
    {
     "name": "stdout",
     "output_type": "stream",
     "text": [
      "78\n"
     ]
    }
   ],
   "source": [
    "## Compute the sum of natural number\n",
    "\n",
    "n = 12\n",
    "number = 0\n",
    "while n>=0:\n",
    "    number = number+n\n",
    "    n =n-1\n",
    "print(number)"
   ]
  },
  {
   "cell_type": "code",
   "execution_count": 6,
   "id": "72d366fc",
   "metadata": {},
   "outputs": [
    {
     "data": {
      "text/plain": [
       "False"
      ]
     },
     "execution_count": 6,
     "metadata": {},
     "output_type": "execute_result"
    }
   ],
   "source": [
    "#3+2+1\n",
    "n = 3\n",
    "n ==True"
   ]
  },
  {
   "cell_type": "code",
   "execution_count": 1,
   "id": "044fec95",
   "metadata": {},
   "outputs": [
    {
     "name": "stdout",
     "output_type": "stream",
     "text": [
      "78\n"
     ]
    }
   ],
   "source": [
    "total, n = 0, 12\n",
    "\n",
    "while n:\n",
    "    total +=n\n",
    "    n-=1\n",
    "print(total)"
   ]
  },
  {
   "cell_type": "code",
   "execution_count": 13,
   "id": "d1d7713b",
   "metadata": {},
   "outputs": [
    {
     "name": "stdout",
     "output_type": "stream",
     "text": [
      "104\n",
      "117\n",
      "130\n",
      "143\n",
      "156\n",
      "169\n",
      "182\n",
      "195\n"
     ]
    }
   ],
   "source": [
    "# Identify all the number which are divisible by 13 {100 to 200}\n",
    "start, end, n = 100, 200, 13\n",
    "j = start\n",
    "while start<end:\n",
    "    if start%n ==0:\n",
    "        print(f\"{start}\")\n",
    "    \n",
    "    start += 1"
   ]
  },
  {
   "cell_type": "code",
   "execution_count": null,
   "id": "814ecd42",
   "metadata": {},
   "outputs": [],
   "source": [
    "PG 32"
   ]
  }
 ],
 "metadata": {
  "kernelspec": {
   "display_name": "Python 3 (ipykernel)",
   "language": "python",
   "name": "python3"
  },
  "language_info": {
   "codemirror_mode": {
    "name": "ipython",
    "version": 3
   },
   "file_extension": ".py",
   "mimetype": "text/x-python",
   "name": "python",
   "nbconvert_exporter": "python",
   "pygments_lexer": "ipython3",
   "version": "3.9.12"
  }
 },
 "nbformat": 4,
 "nbformat_minor": 5
}
