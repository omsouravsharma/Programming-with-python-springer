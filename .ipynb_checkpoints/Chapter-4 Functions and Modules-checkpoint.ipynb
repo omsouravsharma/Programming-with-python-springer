{
 "cells": [
  {
   "cell_type": "code",
   "execution_count": 1,
   "id": "cf5b6d73",
   "metadata": {},
   "outputs": [],
   "source": [
    "# Function \n",
    "# Return the harmonic mean of the number in the interval [100,200] which is divisible by  a = 9\n",
    "\n",
    "def hm(a):\n",
    "    'Return the harmonic mean'\n",
    "    h, b = 0, 100+a-100%a\n",
    "    while b<200:\n",
    "        h +=1/b\n",
    "        b+=a\n",
    "    return 1/h\n",
    "\n"
   ]
  },
  {
   "cell_type": "code",
   "execution_count": 2,
   "id": "e7da0aea",
   "metadata": {},
   "outputs": [
    {
     "data": {
      "text/plain": [
       "13.414098020943065"
      ]
     },
     "execution_count": 2,
     "metadata": {},
     "output_type": "execute_result"
    }
   ],
   "source": [
    "hm(9)"
   ]
  },
  {
   "cell_type": "code",
   "execution_count": 1,
   "id": "15239601",
   "metadata": {},
   "outputs": [],
   "source": [
    "# Lambda function \n",
    "z = lambda c: c**2"
   ]
  },
  {
   "cell_type": "code",
   "execution_count": 2,
   "id": "7ca51ef5",
   "metadata": {},
   "outputs": [
    {
     "data": {
      "text/plain": [
       "9"
      ]
     },
     "execution_count": 2,
     "metadata": {},
     "output_type": "execute_result"
    }
   ],
   "source": [
    "z(3)"
   ]
  },
  {
   "cell_type": "code",
   "execution_count": 4,
   "id": "ab102602",
   "metadata": {},
   "outputs": [
    {
     "data": {
      "text/plain": [
       "22.0"
      ]
     },
     "execution_count": 4,
     "metadata": {},
     "output_type": "execute_result"
    }
   ],
   "source": [
    "zz = lambda x,y:x/y\n",
    "zz(44,2)"
   ]
  },
  {
   "cell_type": "code",
   "execution_count": 15,
   "id": "99d54312",
   "metadata": {},
   "outputs": [],
   "source": [
    "# Recursion\n",
    "\n",
    "def in_ftr(n):\n",
    "    i, x = 0, 1\n",
    "    while i<n:\n",
    "        print(f\"i= {i}, x={x}\")\n",
    "        i+=1\n",
    "        x /=i\n",
    "    return x"
   ]
  },
  {
   "cell_type": "code",
   "execution_count": 16,
   "id": "146524a0",
   "metadata": {},
   "outputs": [
    {
     "name": "stdout",
     "output_type": "stream",
     "text": [
      "i= 0, x=1\n",
      "i= 1, x=1.0\n",
      "i= 2, x=0.5\n",
      "i= 3, x=0.16666666666666666\n",
      "i= 4, x=0.041666666666666664\n"
     ]
    },
    {
     "data": {
      "text/plain": [
       "0.008333333333333333"
      ]
     },
     "execution_count": 16,
     "metadata": {},
     "output_type": "execute_result"
    }
   ],
   "source": [
    "in_ftr(5)"
   ]
  },
  {
   "cell_type": "code",
   "execution_count": 24,
   "id": "dc0457d8",
   "metadata": {},
   "outputs": [],
   "source": [
    "def in_ftr1(n):\n",
    "    \n",
    "    print(f\"n= {n}\")\n",
    "    if n ==0:\n",
    "        return 1\n",
    "    else:\n",
    "        \n",
    "        return in_ftr1(n-1)/n\n",
    "     "
   ]
  },
  {
   "cell_type": "code",
   "execution_count": 25,
   "id": "5b350c8e",
   "metadata": {},
   "outputs": [
    {
     "name": "stdout",
     "output_type": "stream",
     "text": [
      "n= 5\n",
      "n= 4\n",
      "n= 3\n",
      "n= 2\n",
      "n= 1\n",
      "n= 0\n"
     ]
    },
    {
     "data": {
      "text/plain": [
       "0.008333333333333333"
      ]
     },
     "execution_count": 25,
     "metadata": {},
     "output_type": "execute_result"
    }
   ],
   "source": [
    "in_ftr1(5)"
   ]
  },
  {
   "cell_type": "code",
   "execution_count": 6,
   "id": "7a18012c",
   "metadata": {},
   "outputs": [],
   "source": [
    "# Nested Functions\n",
    "\n",
    "def demb_1(a):\n",
    "    # Get a cube root\n",
    "    b, b3, n = 1,1,0\n",
    "    while b3<a:\n",
    "        b+=1\n",
    "        b3 = b**3\n",
    "    b1, b2 = b-1, b\n",
    "    while (b2-b1 >0.001) and (n <20):\n",
    "        n+=1\n",
    "        bm = (b1+b2)/2.0\n",
    "        if a>bm**3: b1 = bm\n",
    "        else: b2 = bm\n",
    "    return ([bm,n,a])\n",
    "\n",
    "def aa(bb,c,d):\n",
    "    jj, smm = c, 0.0\n",
    "    while jj<=d:\n",
    "        smm  += bb(jj)[0]\n",
    "        jj+=1\n",
    "    return smm\n"
   ]
  },
  {
   "cell_type": "code",
   "execution_count": 7,
   "id": "f95790b7",
   "metadata": {},
   "outputs": [
    {
     "data": {
      "text/plain": [
       "10.46875"
      ]
     },
     "execution_count": 7,
     "metadata": {},
     "output_type": "execute_result"
    }
   ],
   "source": [
    "aa(demb_1,3,8)"
   ]
  },
  {
   "cell_type": "code",
   "execution_count": 8,
   "id": "d0d07b67",
   "metadata": {},
   "outputs": [
    {
     "data": {
      "text/plain": [
       "[2.1552734375, 10, 10]"
      ]
     },
     "execution_count": 8,
     "metadata": {},
     "output_type": "execute_result"
    }
   ],
   "source": [
    "demb_1(10)"
   ]
  },
  {
   "cell_type": "code",
   "execution_count": 9,
   "id": "6129acaf",
   "metadata": {},
   "outputs": [],
   "source": [
    "# Nested Scope\n",
    "\n",
    "a1 = 3.1\n",
    "def ff1(b1):\n",
    "    return a1*b1"
   ]
  },
  {
   "cell_type": "code",
   "execution_count": 10,
   "id": "baee4be2",
   "metadata": {},
   "outputs": [
    {
     "data": {
      "text/plain": [
       "6.2"
      ]
     },
     "execution_count": 10,
     "metadata": {},
     "output_type": "execute_result"
    }
   ],
   "source": [
    "ff1(2)"
   ]
  },
  {
   "cell_type": "code",
   "execution_count": 1,
   "id": "45cc7768",
   "metadata": {},
   "outputs": [],
   "source": [
    "def ff3(b2):\n",
    "    a1 = 3.0\n",
    "    return a1*b2\n"
   ]
  },
  {
   "cell_type": "code",
   "execution_count": 2,
   "id": "1d81880c",
   "metadata": {},
   "outputs": [
    {
     "data": {
      "text/plain": [
       "6.0"
      ]
     },
     "execution_count": 2,
     "metadata": {},
     "output_type": "execute_result"
    }
   ],
   "source": [
    "ff3(2)"
   ]
  },
  {
   "cell_type": "code",
   "execution_count": 4,
   "id": "aadf97c7",
   "metadata": {},
   "outputs": [],
   "source": [
    "def ff3(b3):\n",
    "    global a2\n",
    "    a2 = 4.0\n",
    "    return a2*b3"
   ]
  },
  {
   "cell_type": "code",
   "execution_count": 5,
   "id": "8e3d06c3",
   "metadata": {},
   "outputs": [
    {
     "data": {
      "text/plain": [
       "8.0"
      ]
     },
     "execution_count": 5,
     "metadata": {},
     "output_type": "execute_result"
    }
   ],
   "source": [
    "ff3(2)"
   ]
  },
  {
   "cell_type": "code",
   "execution_count": 6,
   "id": "b11fd6ca",
   "metadata": {},
   "outputs": [
    {
     "data": {
      "text/plain": [
       "4.0"
      ]
     },
     "execution_count": 6,
     "metadata": {},
     "output_type": "execute_result"
    }
   ],
   "source": [
    "a2"
   ]
  },
  {
   "cell_type": "code",
   "execution_count": 12,
   "id": "d4b92e78",
   "metadata": {},
   "outputs": [],
   "source": [
    "a3 = 44\n",
    "def dem_f3():\n",
    "    global a3\n",
    "    a3 = 55\n",
    "    print(a3/10.0)\n",
    "    return"
   ]
  },
  {
   "cell_type": "code",
   "execution_count": 13,
   "id": "260626b5",
   "metadata": {},
   "outputs": [
    {
     "data": {
      "text/plain": [
       "44"
      ]
     },
     "execution_count": 13,
     "metadata": {},
     "output_type": "execute_result"
    }
   ],
   "source": [
    "a3"
   ]
  },
  {
   "cell_type": "code",
   "execution_count": 14,
   "id": "3e840a85",
   "metadata": {},
   "outputs": [
    {
     "name": "stdout",
     "output_type": "stream",
     "text": [
      "5.5\n"
     ]
    }
   ],
   "source": [
    "dem_f3()"
   ]
  },
  {
   "cell_type": "code",
   "execution_count": 15,
   "id": "79776386",
   "metadata": {},
   "outputs": [
    {
     "data": {
      "text/plain": [
       "55"
      ]
     },
     "execution_count": 15,
     "metadata": {},
     "output_type": "execute_result"
    }
   ],
   "source": [
    "a3"
   ]
  },
  {
   "cell_type": "code",
   "execution_count": 16,
   "id": "31cc487d",
   "metadata": {},
   "outputs": [],
   "source": [
    "b1, b2, b3 = 10,20, 30"
   ]
  },
  {
   "cell_type": "code",
   "execution_count": 22,
   "id": "d96ea0a4",
   "metadata": {},
   "outputs": [
    {
     "name": "stdout",
     "output_type": "stream",
     "text": [
      "f4: b1= 10 ,b2= 20 ,b3= 30\n"
     ]
    }
   ],
   "source": [
    "def dem_b0():\n",
    "    b3 = 31\n",
    "    def dem_b1():\n",
    "        nonlocal b3\n",
    "        b3 = 32\n",
    "        global b2\n",
    "        b2 = 22\n",
    "        print('f1:','b1=',b1,'b2=',b2,'b3=',b3)\n",
    "        return\n",
    "    print('f2:','b1=',b1,'b2=',b2,'b3 =',b3)\n",
    "    dem_b1()\n",
    "    print('f3:','b1=',b1,'b2=',b2,'b3=',b3)\n",
    "    return\n",
    "print('f4:','b1=',b1,',b2=',b2,',b3=',b3) "
   ]
  },
  {
   "cell_type": "code",
   "execution_count": 24,
   "id": "a221f7ac",
   "metadata": {},
   "outputs": [
    {
     "name": "stdout",
     "output_type": "stream",
     "text": [
      "f2: b1= 10 b2= 20 b3 = 31\n",
      "f1: b1= 10 b2= 22 b3= 32\n",
      "f3: b1= 10 b2= 22 b3= 32\n"
     ]
    }
   ],
   "source": [
    "dem_b0()"
   ]
  },
  {
   "cell_type": "code",
   "execution_count": 28,
   "id": "9239cc54",
   "metadata": {},
   "outputs": [
    {
     "name": "stdout",
     "output_type": "stream",
     "text": [
      "f5: b1= 10 b2= 22 b3= 30\n"
     ]
    }
   ],
   "source": [
    "print('f5:','b1=',b1,'b2=',b2,'b3=',b3)"
   ]
  },
  {
   "cell_type": "code",
   "execution_count": null,
   "id": "1ea748c7",
   "metadata": {},
   "outputs": [],
   "source": [
    "# Modules 61"
   ]
  }
 ],
 "metadata": {
  "kernelspec": {
   "display_name": "Python 3 (ipykernel)",
   "language": "python",
   "name": "python3"
  },
  "language_info": {
   "codemirror_mode": {
    "name": "ipython",
    "version": 3
   },
   "file_extension": ".py",
   "mimetype": "text/x-python",
   "name": "python",
   "nbconvert_exporter": "python",
   "pygments_lexer": "ipython3",
   "version": "3.9.12"
  }
 },
 "nbformat": 4,
 "nbformat_minor": 5
}
