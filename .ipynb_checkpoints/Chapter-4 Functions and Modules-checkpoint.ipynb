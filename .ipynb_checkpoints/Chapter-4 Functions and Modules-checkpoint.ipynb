{
 "cells": [
  {
   "cell_type": "code",
   "execution_count": 1,
   "id": "cf5b6d73",
   "metadata": {},
   "outputs": [],
   "source": [
    "# Function \n",
    "# Return the harmonic mean of the number in the interval [100,200] which is divisible by  a = 9\n",
    "\n",
    "def hm(a):\n",
    "    'Return the harmonic mean'\n",
    "    h, b = 0, 100+a-100%a\n",
    "    while b<200:\n",
    "        h +=1/b\n",
    "        b+=a\n",
    "    return 1/h\n",
    "\n"
   ]
  },
  {
   "cell_type": "code",
   "execution_count": 2,
   "id": "e7da0aea",
   "metadata": {},
   "outputs": [
    {
     "data": {
      "text/plain": [
       "13.414098020943065"
      ]
     },
     "execution_count": 2,
     "metadata": {},
     "output_type": "execute_result"
    }
   ],
   "source": [
    "hm(9)"
   ]
  },
  {
   "cell_type": "code",
   "execution_count": null,
   "id": "15239601",
   "metadata": {},
   "outputs": [],
   "source": [
    "52"
   ]
  }
 ],
 "metadata": {
  "kernelspec": {
   "display_name": "Python 3 (ipykernel)",
   "language": "python",
   "name": "python3"
  },
  "language_info": {
   "codemirror_mode": {
    "name": "ipython",
    "version": 3
   },
   "file_extension": ".py",
   "mimetype": "text/x-python",
   "name": "python",
   "nbconvert_exporter": "python",
   "pygments_lexer": "ipython3",
   "version": "3.9.12"
  }
 },
 "nbformat": 4,
 "nbformat_minor": 5
}
