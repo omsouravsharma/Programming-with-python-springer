{
 "cells": [
  {
   "cell_type": "code",
   "execution_count": 1,
   "id": "cf5b6d73",
   "metadata": {},
   "outputs": [],
   "source": [
    "# Function \n",
    "# Return the harmonic mean of the number in the interval [100,200] which is divisible by  a = 9\n",
    "\n",
    "def hm(a):\n",
    "    'Return the harmonic mean'\n",
    "    h, b = 0, 100+a-100%a\n",
    "    while b<200:\n",
    "        h +=1/b\n",
    "        b+=a\n",
    "    return 1/h\n",
    "\n"
   ]
  },
  {
   "cell_type": "code",
   "execution_count": 2,
   "id": "e7da0aea",
   "metadata": {},
   "outputs": [
    {
     "data": {
      "text/plain": [
       "13.414098020943065"
      ]
     },
     "execution_count": 2,
     "metadata": {},
     "output_type": "execute_result"
    }
   ],
   "source": [
    "hm(9)"
   ]
  },
  {
   "cell_type": "code",
   "execution_count": 1,
   "id": "15239601",
   "metadata": {},
   "outputs": [],
   "source": [
    "# Lambda function \n",
    "z = lambda c: c**2"
   ]
  },
  {
   "cell_type": "code",
   "execution_count": 2,
   "id": "7ca51ef5",
   "metadata": {},
   "outputs": [
    {
     "data": {
      "text/plain": [
       "9"
      ]
     },
     "execution_count": 2,
     "metadata": {},
     "output_type": "execute_result"
    }
   ],
   "source": [
    "z(3)"
   ]
  },
  {
   "cell_type": "code",
   "execution_count": 4,
   "id": "ab102602",
   "metadata": {},
   "outputs": [
    {
     "data": {
      "text/plain": [
       "22.0"
      ]
     },
     "execution_count": 4,
     "metadata": {},
     "output_type": "execute_result"
    }
   ],
   "source": [
    "zz = lambda x,y:x/y\n",
    "zz(44,2)"
   ]
  },
  {
   "cell_type": "code",
   "execution_count": 15,
   "id": "99d54312",
   "metadata": {},
   "outputs": [],
   "source": [
    "# Recursion\n",
    "\n",
    "def in_ftr(n):\n",
    "    i, x = 0, 1\n",
    "    while i<n:\n",
    "        print(f\"i= {i}, x={x}\")\n",
    "        i+=1\n",
    "        x /=i\n",
    "    return x"
   ]
  },
  {
   "cell_type": "code",
   "execution_count": 16,
   "id": "146524a0",
   "metadata": {},
   "outputs": [
    {
     "name": "stdout",
     "output_type": "stream",
     "text": [
      "i= 0, x=1\n",
      "i= 1, x=1.0\n",
      "i= 2, x=0.5\n",
      "i= 3, x=0.16666666666666666\n",
      "i= 4, x=0.041666666666666664\n"
     ]
    },
    {
     "data": {
      "text/plain": [
       "0.008333333333333333"
      ]
     },
     "execution_count": 16,
     "metadata": {},
     "output_type": "execute_result"
    }
   ],
   "source": [
    "in_ftr(5)"
   ]
  },
  {
   "cell_type": "code",
   "execution_count": 24,
   "id": "dc0457d8",
   "metadata": {},
   "outputs": [],
   "source": [
    "def in_ftr1(n):\n",
    "    \n",
    "    print(f\"n= {n}\")\n",
    "    if n ==0:\n",
    "        return 1\n",
    "    else:\n",
    "        \n",
    "        return in_ftr1(n-1)/n\n",
    "     "
   ]
  },
  {
   "cell_type": "code",
   "execution_count": 25,
   "id": "5b350c8e",
   "metadata": {},
   "outputs": [
    {
     "name": "stdout",
     "output_type": "stream",
     "text": [
      "n= 5\n",
      "n= 4\n",
      "n= 3\n",
      "n= 2\n",
      "n= 1\n",
      "n= 0\n"
     ]
    },
    {
     "data": {
      "text/plain": [
       "0.008333333333333333"
      ]
     },
     "execution_count": 25,
     "metadata": {},
     "output_type": "execute_result"
    }
   ],
   "source": [
    "in_ftr1(5)"
   ]
  },
  {
   "cell_type": "code",
   "execution_count": null,
   "id": "7a18012c",
   "metadata": {},
   "outputs": [],
   "source": [
    "# Nested Functions"
   ]
  }
 ],
 "metadata": {
  "kernelspec": {
   "display_name": "Python 3 (ipykernel)",
   "language": "python",
   "name": "python3"
  },
  "language_info": {
   "codemirror_mode": {
    "name": "ipython",
    "version": 3
   },
   "file_extension": ".py",
   "mimetype": "text/x-python",
   "name": "python",
   "nbconvert_exporter": "python",
   "pygments_lexer": "ipython3",
   "version": "3.9.12"
  }
 },
 "nbformat": 4,
 "nbformat_minor": 5
}
