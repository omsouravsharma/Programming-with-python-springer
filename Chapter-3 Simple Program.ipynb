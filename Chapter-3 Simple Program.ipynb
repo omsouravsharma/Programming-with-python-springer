{
 "cells": [
  {
   "cell_type": "markdown",
   "id": "390068f6",
   "metadata": {},
   "source": [
    "# Basic Program Structure"
   ]
  },
  {
   "cell_type": "code",
   "execution_count": 12,
   "id": "17c37c7f",
   "metadata": {},
   "outputs": [
    {
     "name": "stdout",
     "output_type": "stream",
     "text": [
      "78\n"
     ]
    }
   ],
   "source": [
    "## Compute the sum of natural number\n",
    "\n",
    "n = 12\n",
    "number = 0\n",
    "while n>=0:\n",
    "    number = number+n\n",
    "    n =n-1\n",
    "print(number)"
   ]
  },
  {
   "cell_type": "code",
   "execution_count": 6,
   "id": "72d366fc",
   "metadata": {},
   "outputs": [
    {
     "data": {
      "text/plain": [
       "False"
      ]
     },
     "execution_count": 6,
     "metadata": {},
     "output_type": "execute_result"
    }
   ],
   "source": [
    "#3+2+1\n",
    "n = 3\n",
    "n ==True"
   ]
  },
  {
   "cell_type": "code",
   "execution_count": 1,
   "id": "044fec95",
   "metadata": {},
   "outputs": [
    {
     "name": "stdout",
     "output_type": "stream",
     "text": [
      "78\n"
     ]
    }
   ],
   "source": [
    "total, n = 0, 12\n",
    "\n",
    "while n:\n",
    "    total +=n\n",
    "    n-=1\n",
    "print(total)"
   ]
  },
  {
   "cell_type": "code",
   "execution_count": 13,
   "id": "d1d7713b",
   "metadata": {},
   "outputs": [
    {
     "name": "stdout",
     "output_type": "stream",
     "text": [
      "104\n",
      "117\n",
      "130\n",
      "143\n",
      "156\n",
      "169\n",
      "182\n",
      "195\n"
     ]
    }
   ],
   "source": [
    "# Identify all the number which are divisible by 13 {100 to 200}\n",
    "start, end, n = 100, 200, 13\n",
    "j = start\n",
    "while start<end:\n",
    "    if start%n ==0:\n",
    "        print(f\"{start}\")\n",
    "    \n",
    "    start += 1"
   ]
  },
  {
   "cell_type": "code",
   "execution_count": 1,
   "id": "814ecd42",
   "metadata": {},
   "outputs": [],
   "source": [
    "# Flowchat \n"
   ]
  },
  {
   "cell_type": "code",
   "execution_count": 9,
   "id": "78db08ab",
   "metadata": {},
   "outputs": [
    {
     "name": "stdout",
     "output_type": "stream",
     "text": [
      "1\n",
      "10\n",
      "35\n",
      "84\n",
      "165\n",
      "286\n",
      "455\n",
      "680\n"
     ]
    }
   ],
   "source": [
    "# conditional operations\n",
    "# Output the sum of square of the first eight odd number \n",
    "\n",
    "iteration, sum, m = 8, 0, 1\n",
    "\n",
    "while iteration:\n",
    "    #if n%2!=0:\n",
    "    sum +=m*m\n",
    "    m+=2\n",
    "    iteration -=1\n",
    "    \n",
    "    print(sum)\n",
    "        "
   ]
  },
  {
   "cell_type": "code",
   "execution_count": 7,
   "id": "bcb2f5c1",
   "metadata": {},
   "outputs": [
    {
     "name": "stdout",
     "output_type": "stream",
     "text": [
      "343\n",
      "3087\n",
      "12348\n",
      "34300\n",
      "77175\n",
      "151263\n",
      "268912\n",
      "444528\n",
      "444528\n"
     ]
    }
   ],
   "source": [
    "#Get the sum of cubes of the first 8 positive integers divisible by 7\n",
    "# {7,14,21,28...}\n",
    "\n",
    "iteration = 7\n",
    "n = 1\n",
    "sm= 0\n",
    "while iteration >=0:\n",
    "    if n%7==0:\n",
    "        sm += n*n*n\n",
    "        iteration -=1\n",
    "        print(sm)\n",
    "    n+=1\n",
    "        \n",
    "print(sm)"
   ]
  },
  {
   "cell_type": "code",
   "execution_count": 18,
   "id": "7dfb74a2",
   "metadata": {},
   "outputs": [
    {
     "name": "stdout",
     "output_type": "stream",
     "text": [
      "Number is 1 and total sum is:0\n",
      "Number is 2 and total sum is:0\n",
      "Number is 3 and total sum is:0\n",
      "Number is 4 and total sum is:0\n",
      "Number is 5 and total sum is:0\n",
      "Number is 6 and total sum is:0\n",
      "Number is 7 and total sum is:0\n",
      "Number is 8 and total sum is:0\n",
      "Number is 9 and total sum is:0\n",
      "Number is 10 and total sum is:0\n",
      "Number is 11 and total sum is:1\n",
      "Number is 12 and total sum is:1\n",
      "Number is 13 and total sum is:1\n",
      "Number is 14 and total sum is:1\n",
      "Number is 15 and total sum is:1\n",
      "Number is 16 and total sum is:1\n",
      "Number is 17 and total sum is:1\n",
      "Number is 18 and total sum is:1\n",
      "Number is 19 and total sum is:1\n",
      "Number is 20 and total sum is:1\n",
      "Number is 21 and total sum is:1\n",
      "Number is 22 and total sum is:2\n",
      "Number is 23 and total sum is:2\n",
      "Number is 24 and total sum is:2\n",
      "Number is 25 and total sum is:2\n",
      "Number is 26 and total sum is:2\n",
      "Number is 27 and total sum is:2\n",
      "Number is 28 and total sum is:2\n",
      "Number is 29 and total sum is:2\n",
      "Number is 30 and total sum is:2\n",
      "Number is 31 and total sum is:2\n",
      "Number is 32 and total sum is:2\n",
      "Number is 33 and total sum is:3\n",
      "Number is 34 and total sum is:3\n",
      "Number is 35 and total sum is:3\n",
      "Number is 36 and total sum is:3\n",
      "Number is 37 and total sum is:3\n",
      "Number is 38 and total sum is:3\n",
      "Number is 39 and total sum is:3\n",
      "Number is 40 and total sum is:3\n",
      "Number is 41 and total sum is:3\n",
      "Number is 42 and total sum is:3\n",
      "Number is 43 and total sum is:3\n",
      "Number is 44 and total sum is:4\n",
      "Number is 45 and total sum is:4\n",
      "Number is 46 and total sum is:4\n",
      "Number is 47 and total sum is:4\n",
      "Number is 48 and total sum is:4\n",
      "Number is 49 and total sum is:4\n",
      "Number is 50 and total sum is:4\n",
      "Number is 51 and total sum is:4\n",
      "Number is 52 and total sum is:4\n",
      "Number is 53 and total sum is:4\n",
      "Number is 54 and total sum is:4\n",
      "Number is 55 and total sum is:5\n",
      "Number is 56 and total sum is:5\n",
      "Number is 57 and total sum is:5\n",
      "Number is 58 and total sum is:5\n",
      "Number is 59 and total sum is:5\n",
      "Number is 60 and total sum is:5\n",
      "Number is 61 and total sum is:5\n",
      "Number is 62 and total sum is:5\n",
      "Number is 63 and total sum is:5\n",
      "Number is 64 and total sum is:5\n",
      "Number is 65 and total sum is:5\n",
      "Number is 66 and total sum is:6\n",
      "Number is 67 and total sum is:6\n",
      "Number is 68 and total sum is:6\n",
      "Number is 69 and total sum is:6\n",
      "Number is 70 and total sum is:6\n",
      "Number is 71 and total sum is:6\n",
      "Number is 72 and total sum is:6\n",
      "Number is 73 and total sum is:6\n",
      "Number is 74 and total sum is:6\n",
      "Number is 75 and total sum is:6\n",
      "Number is 76 and total sum is:6\n",
      "Number is 77 and total sum is:7\n",
      "Number is 78 and total sum is:7\n",
      "Number is 79 and total sum is:7\n",
      "Number is 80 and total sum is:7\n",
      "Number is 81 and total sum is:7\n",
      "Number is 82 and total sum is:7\n",
      "Number is 83 and total sum is:7\n",
      "Number is 84 and total sum is:7\n",
      "Number is 85 and total sum is:7\n",
      "Number is 86 and total sum is:7\n",
      "Number is 87 and total sum is:7\n",
      "Number is 88 and total sum is:8\n",
      "Number is 89 and total sum is:8\n",
      "Number is 90 and total sum is:8\n",
      "Number is 91 and total sum is:8\n",
      "Number is 92 and total sum is:8\n",
      "Number is 93 and total sum is:8\n",
      "Number is 94 and total sum is:8\n",
      "Number is 95 and total sum is:8\n",
      "Number is 96 and total sum is:8\n",
      "Number is 97 and total sum is:8\n",
      "Number is 98 and total sum is:8\n",
      "Number is 99 and total sum is:9\n",
      "Number is 100 and total sum is:9\n",
      "Number is 101 and total sum is:9\n",
      "Number is 102 and total sum is:9\n",
      "Number is 103 and total sum is:9\n",
      "Number is 104 and total sum is:9\n",
      "Number is 105 and total sum is:9\n",
      "Number is 106 and total sum is:9\n",
      "Number is 107 and total sum is:9\n",
      "Number is 108 and total sum is:9\n",
      "Number is 109 and total sum is:9\n",
      "Number is 110 and total sum is:10\n",
      "Number is 111 and total sum is:10\n",
      "Number is 112 and total sum is:10\n",
      "Number is 113 and total sum is:10\n",
      "Number is 114 and total sum is:10\n",
      "Number is 115 and total sum is:10\n",
      "Number is 116 and total sum is:10\n",
      "Number is 117 and total sum is:10\n",
      "Number is 118 and total sum is:10\n",
      "Number is 119 and total sum is:10\n",
      "Number is 120 and total sum is:10\n",
      "Number is 121 and total sum is:11\n",
      "Number is 122 and total sum is:11\n",
      "Number is 123 and total sum is:11\n",
      "Number is 124 and total sum is:11\n",
      "Number is 125 and total sum is:11\n",
      "Number is 126 and total sum is:11\n",
      "Number is 127 and total sum is:11\n",
      "Number is 128 and total sum is:11\n",
      "Number is 129 and total sum is:11\n",
      "Number is 130 and total sum is:11\n",
      "Number is 131 and total sum is:11\n",
      "Number is 132 and total sum is:12\n",
      "Number is 133 and total sum is:12\n",
      "Number is 134 and total sum is:12\n",
      "Number is 135 and total sum is:12\n",
      "Number is 136 and total sum is:12\n",
      "Number is 137 and total sum is:12\n",
      "Number is 138 and total sum is:12\n",
      "Number is 139 and total sum is:12\n",
      "Number is 140 and total sum is:12\n",
      "Number is 141 and total sum is:12\n",
      "Number is 142 and total sum is:12\n",
      "Number is 143 and total sum is:13\n",
      "Number is 144 and total sum is:13\n",
      "Number is 145 and total sum is:13\n",
      "Number is 146 and total sum is:13\n",
      "Number is 147 and total sum is:13\n",
      "Number is 148 and total sum is:13\n",
      "Number is 149 and total sum is:13\n",
      "Number is 150 and total sum is:13\n",
      "Number is 151 and total sum is:13\n",
      "Number is 152 and total sum is:13\n",
      "Number is 153 and total sum is:13\n",
      "Number is 154 and total sum is:14\n",
      "Number is 155 and total sum is:14\n",
      "Number is 156 and total sum is:14\n",
      "Number is 157 and total sum is:14\n",
      "Number is 158 and total sum is:14\n",
      "Number is 159 and total sum is:14\n",
      "Number is 160 and total sum is:14\n",
      "Number is 161 and total sum is:14\n",
      "Number is 162 and total sum is:14\n",
      "Number is 163 and total sum is:14\n",
      "Number is 164 and total sum is:14\n",
      "Number is 165 and total sum is:15\n",
      "Number is 166 and total sum is:15\n",
      "Number is 167 and total sum is:15\n",
      "Number is 168 and total sum is:15\n",
      "Number is 169 and total sum is:15\n",
      "Number is 170 and total sum is:15\n",
      "Number is 171 and total sum is:15\n",
      "Number is 172 and total sum is:15\n",
      "Number is 173 and total sum is:15\n",
      "Number is 174 and total sum is:15\n",
      "Number is 175 and total sum is:15\n",
      "Number is 176 and total sum is:16\n",
      "Number is 177 and total sum is:16\n",
      "Number is 178 and total sum is:16\n",
      "Number is 179 and total sum is:16\n",
      "Number is 180 and total sum is:16\n",
      "Number is 181 and total sum is:16\n",
      "Number is 182 and total sum is:16\n",
      "Number is 183 and total sum is:16\n",
      "Number is 184 and total sum is:16\n",
      "Number is 185 and total sum is:16\n",
      "Number is 186 and total sum is:16\n",
      "Number is 187 and total sum is:17\n",
      "Number is 188 and total sum is:17\n",
      "Number is 189 and total sum is:17\n",
      "Number is 190 and total sum is:17\n",
      "Number is 191 and total sum is:17\n",
      "Number is 192 and total sum is:17\n",
      "Number is 193 and total sum is:17\n",
      "Number is 194 and total sum is:17\n",
      "Number is 195 and total sum is:17\n",
      "Number is 196 and total sum is:17\n",
      "Number is 197 and total sum is:17\n",
      "Number is 198 and total sum is:18\n",
      "Number is 199 and total sum is:18\n"
     ]
    }
   ],
   "source": [
    "#Q - Total number of positive number below 200 divisible by 11 \n",
    "n = 1\n",
    "sm = 0\n",
    "while n<200:\n",
    "    if n%11==0:\n",
    "        sm+=1\n",
    "    n+=1\n",
    "    print(f\"Number is {n-1} and total sum is:{sm}\")"
   ]
  },
  {
   "cell_type": "code",
   "execution_count": 26,
   "id": "3bfcf716",
   "metadata": {},
   "outputs": [
    {
     "name": "stdout",
     "output_type": "stream",
     "text": [
      "143\n",
      "286\n",
      "429\n",
      "572\n",
      "715\n",
      "858\n"
     ]
    }
   ],
   "source": [
    "# Q = Number which are divisible by 11 & 13 in range = 100-1000\n",
    "\n",
    "start = 100\n",
    "end = 1000\n",
    "n = 100\n",
    "\n",
    "while n<1000:\n",
    "    if (n%11==0) and(n%13==0):\n",
    "        print(n)\n",
    "    n+=1\n",
    "    "
   ]
  },
  {
   "cell_type": "code",
   "execution_count": 27,
   "id": "7b78b6fc",
   "metadata": {},
   "outputs": [
    {
     "name": "stdout",
     "output_type": "stream",
     "text": [
      "24389\n"
     ]
    }
   ],
   "source": [
    "#Smallest greater number than 10,000 power of 29\n",
    "\n",
    "n = 29\n",
    "while True:\n",
    "    n*=29\n",
    "    if n >10000:\n",
    "        break\n",
    "print(n)"
   ]
  },
  {
   "cell_type": "code",
   "execution_count": 4,
   "id": "552020fb",
   "metadata": {},
   "outputs": [
    {
     "name": "stdout",
     "output_type": "stream",
     "text": [
      "0\n",
      "27\n",
      "243\n",
      "972\n"
     ]
    }
   ],
   "source": [
    "#Ex 3.8\n",
    "# Sum up the cubes of all positive integers upt 10 divisible by 3\n",
    "sm= 0\n",
    "for i in range(0, 10, 3):\n",
    "   \n",
    "    sm+=i*i*i\n",
    "    print(sm)"
   ]
  },
  {
   "cell_type": "code",
   "execution_count": 6,
   "id": "583f4b35",
   "metadata": {},
   "outputs": [
    {
     "name": "stdout",
     "output_type": "stream",
     "text": [
      "2 is even\n",
      "3 is odd\n",
      "4 is even\n",
      "5 is odd\n",
      "6 is even\n",
      "7 is odd\n",
      "8 is even\n",
      "9 is odd\n"
     ]
    }
   ],
   "source": [
    "# Odd even\n",
    "\n",
    "for i in range(2,10):\n",
    "    if i%2==0:\n",
    "        print(f\"{i} is even\")\n",
    "    else:\n",
    "        print(f\"{i} is odd\")"
   ]
  },
  {
   "cell_type": "code",
   "execution_count": null,
   "id": "1bb63ec2",
   "metadata": {},
   "outputs": [],
   "source": [
    "# Iterative Routines \n",
    "\n",
    "#Quatradic equation px^2 + qx + r = 0\n",
    "\n",
    "PG 41\n",
    "Flowchat"
   ]
  }
 ],
 "metadata": {
  "kernelspec": {
   "display_name": "Python 3 (ipykernel)",
   "language": "python",
   "name": "python3"
  },
  "language_info": {
   "codemirror_mode": {
    "name": "ipython",
    "version": 3
   },
   "file_extension": ".py",
   "mimetype": "text/x-python",
   "name": "python",
   "nbconvert_exporter": "python",
   "pygments_lexer": "ipython3",
   "version": "3.9.12"
  }
 },
 "nbformat": 4,
 "nbformat_minor": 5
}
